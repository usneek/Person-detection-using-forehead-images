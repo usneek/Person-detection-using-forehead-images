{
  "nbformat": 4,
  "nbformat_minor": 5,
  "metadata": {
    "kernelspec": {
      "name": "python3",
      "display_name": "Python 3"
    },
    "colab": {
      "name": "SiameseNet_FaceNet (1).ipynb",
      "provenance": [],
      "include_colab_link": true
    },
    "language_info": {
      "name": "python"
    },
    "accelerator": "GPU"
  },
  "cells": [
    {
      "cell_type": "markdown",
      "metadata": {
        "id": "view-in-github",
        "colab_type": "text"
      },
      "source": [
        "<a href=\"https://colab.research.google.com/github/usneek/Person-detection-using-forehead-images/blob/main/SiameseNet_FaceNet_(1).ipynb\" target=\"_parent\"><img src=\"https://colab.research.google.com/assets/colab-badge.svg\" alt=\"Open In Colab\"/></a>"
      ]
    },
    {
      "cell_type": "code",
      "metadata": {
        "colab": {
          "base_uri": "https://localhost:8080/"
        },
        "id": "jVeqH07R-_jl",
        "outputId": "32821646-c650-4846-b14b-db01727786d1"
      },
      "source": [
        "from google.colab import drive\n",
        "drive.mount('/content/drive')"
      ],
      "id": "jVeqH07R-_jl",
      "execution_count": null,
      "outputs": [
        {
          "output_type": "stream",
          "name": "stdout",
          "text": [
            "Mounted at /content/drive\n"
          ]
        }
      ]
    },
    {
      "cell_type": "code",
      "metadata": {
        "id": "042cf1b4"
      },
      "source": [
        "import matplotlib.pyplot as plt\n",
        "import numpy as np\n",
        "import os\n",
        "import random\n",
        "import tensorflow as tf\n",
        "from pathlib import Path\n",
        "import keras\n",
        "from tensorflow.keras import applications\n",
        "from tensorflow.keras import layers\n",
        "from tensorflow.keras import losses\n",
        "from tensorflow.keras import optimizers\n",
        "from tensorflow.keras import metrics\n",
        "from tensorflow.keras import Model\n",
        "from tensorflow.keras.applications import resnet\n",
        "from keras.models import load_model\n",
        "import cv2\n",
        "from tensorflow.keras.callbacks import ModelCheckpoint, ReduceLROnPlateau\n",
        "target_shape = (160, 160)"
      ],
      "id": "042cf1b4",
      "execution_count": null,
      "outputs": []
    },
    {
      "cell_type": "code",
      "metadata": {
        "id": "70f2f500"
      },
      "source": [
        "anchor_images_path = 'drive/MyDrive/DL Assignment/Triplets/Anchor/'\n",
        "positive_images_path = 'drive/MyDrive/DL Assignment/Triplets/Positive/'\n",
        "negative_images_path = 'drive/MyDrive/DL Assignment/Triplets/Negative/'"
      ],
      "id": "70f2f500",
      "execution_count": null,
      "outputs": []
    },
    {
      "cell_type": "code",
      "metadata": {
        "id": "90ca30bb"
      },
      "source": [
        "def preprocess_image(filename):\n",
        "    \"\"\"\n",
        "    Load the specified file as a JPEG image, preprocess it and\n",
        "    resize it to the target shape.\n",
        "    \"\"\"\n",
        "\n",
        "    image_string = tf.io.read_file(filename)\n",
        "    image = tf.image.decode_jpeg(image_string, channels=3)\n",
        "    image = tf.image.convert_image_dtype(image, tf.float32)\n",
        "    image = tf.image.per_image_standardization(image)\n",
        "    return image\n",
        "\n",
        "\n",
        "def preprocess_triplets(anchor, positive, negative):\n",
        "    \"\"\"\n",
        "    Given the filenames corresponding to the three images, load and\n",
        "    preprocess them.\n",
        "    \"\"\"\n",
        "\n",
        "    return (\n",
        "        preprocess_image(anchor),\n",
        "        preprocess_image(positive),\n",
        "        preprocess_image(negative),\n",
        "    )"
      ],
      "id": "90ca30bb",
      "execution_count": null,
      "outputs": []
    },
    {
      "cell_type": "code",
      "metadata": {
        "colab": {
          "base_uri": "https://localhost:8080/",
          "height": 523
        },
        "id": "VV9JQ1tbmMyY",
        "outputId": "b0fca5f2-4a25-4afd-b21d-7c0cd63ca5ad"
      },
      "source": [
        "import pandas as pd\n",
        "from sklearn.preprocessing import StandardScaler\n",
        "from sklearn.decomposition import PCA\n",
        "x = []\n",
        "y = 0\n",
        "for filename in os.listdir('drive/MyDrive/DL Assignment/Images'):\n",
        "    if y == 120:\n",
        "        break\n",
        "    img = cv2.imread(os.path.join('drive/MyDrive/DL Assignment/Images',filename))\n",
        "    img = cv2.cvtColor(img, cv2.COLOR_BGR2RGB)\n",
        "    img= cv2.resize(img,(160,160))\n",
        "    img = img.astype('float32')\n",
        "    mean, std = img.mean(), img.std()\n",
        "    img = (img - mean) / std\n",
        "    img = np.array([img])\n",
        "    img = tf.convert_to_tensor(img)\n",
        "    vec = embedding.predict(img)\n",
        "    x.append(vec.flatten())\n",
        "    y += 1\n",
        "\n",
        "\n",
        "#PCA to reduce 512D vectors to 2D\n",
        "x = StandardScaler().fit_transform(x)\n",
        "pca = PCA(n_components=2)\n",
        "principalComponents = pca.fit_transform(x)\n",
        "#Plotting the PCA\n",
        "\n",
        "principalDf = pd.DataFrame(data = principalComponents\n",
        "             , columns = ['principal component 1', 'principal component 2'])\n",
        "fig = plt.figure(figsize = (8,8))\n",
        "ax = fig.add_subplot(1,1,1) \n",
        "ax.set_xlabel('Principal Component 1', fontsize = 15)\n",
        "ax.set_ylabel('Principal Component 2', fontsize = 15)\n",
        "ax.set_title('FECNN Features PCA', fontsize = 20)\n",
        "colors = ['r', 'g', 'b','c','m','y','k','gold','grey','purple']\n",
        "x = 10\n",
        "for i in range(10):\n",
        "    ax.scatter(principalDf.loc[range((i*x),((i*x)+x)), 'principal component 1']\n",
        "               , principalDf.loc[range((i*x),((i*x)+x)), 'principal component 2']\n",
        "               , c = colors[i]\n",
        "               , s = 50)\n",
        "ax.grid()"
      ],
      "id": "VV9JQ1tbmMyY",
      "execution_count": null,
      "outputs": [
        {
          "output_type": "display_data",
          "data": {
            "image/png": "[encoded data removed]",
            "text/plain": [
              "<Figure size 576x576 with 1 Axes>"
            ]
          },
          "metadata": {
            "needs_background": "light"
          }
        }
      ]
    },
    {
      "cell_type": "code",
      "metadata": {
        "colab": {
          "base_uri": "https://localhost:8080/",
          "height": 523
        },
        "id": "ov1C7zZhnjcb",
        "outputId": "d983e1b8-30fa-43d6-dfcf-616d74b83d3e"
      },
      "source": [
        "import pandas as pd\n",
        "from sklearn.preprocessing import StandardScaler\n",
        "from sklearn.decomposition import PCA\n",
        "x = []\n",
        "y = 0\n",
        "for filename in os.listdir('drive/MyDrive/DL Assignment/Images'):\n",
        "    if y == 120:\n",
        "        break\n",
        "    img = cv2.imread(os.path.join('drive/MyDrive/DL Assignment/Images',filename))\n",
        "    img = cv2.cvtColor(img, cv2.COLOR_BGR2RGB)\n",
        "    img= cv2.resize(img,(160,160))\n",
        "    img = img.astype('float32')\n",
        "    mean, std = img.mean(), img.std()\n",
        "    img = (img - mean) / std\n",
        "    img = np.array([img])\n",
        "    img = tf.convert_to_tensor(img)\n",
        "    vec = embedding.predict(img)\n",
        "    x.append(vec.flatten())\n",
        "    y += 1\n",
        "\n",
        "\n",
        "#PCA to reduce 512D vectors to 2D\n",
        "x = StandardScaler().fit_transform(x)\n",
        "pca = PCA(n_components=2)\n",
        "principalComponents = pca.fit_transform(x)\n",
        "#Plotting the PCA\n",
        "\n",
        "principalDf = pd.DataFrame(data = principalComponents\n",
        "             , columns = ['principal component 1', 'principal component 2'])\n",
        "fig = plt.figure(figsize = (8,8))\n",
        "ax = fig.add_subplot(1,1,1) \n",
        "ax.set_xlabel('Principal Component 1', fontsize = 15)\n",
        "ax.set_ylabel('Principal Component 2', fontsize = 15)\n",
        "ax.set_title('FECNN Features PCA', fontsize = 20)\n",
        "colors = ['r', 'g', 'b','c','m','y','k','gold','grey','purple']\n",
        "x = 10\n",
        "for i in range(10):\n",
        "    ax.scatter(principalDf.loc[range((i*x),((i*x)+x)), 'principal component 1']\n",
        "               , principalDf.loc[range((i*x),((i*x)+x)), 'principal component 2']\n",
        "               , c = colors[i]\n",
        "               , s = 50)\n",
        "ax.grid()"
      ],
      "id": "ov1C7zZhnjcb",
      "execution_count": null,
      "outputs": [
        {
          "output_type": "display_data",
          "data": {
            "image/png": "[encoded data removed]",
            "text/plain": [
              "<Figure size 576x576 with 1 Axes>"
            ]
          },
          "metadata": {
            "needs_background": "light"
          }
        }
      ]
    },
    {
      "cell_type": "code",
      "metadata": {
        "id": "8ca75cd9"
      },
      "source": [
        "anchor_images = [(anchor_images_path+f) for f in os.listdir(anchor_images_path)]\n",
        "\n",
        "positive_images = [(positive_images_path+f) for f in os.listdir(positive_images_path)]\n",
        "\n",
        "negative_images = [(negative_images_path+f) for f in os.listdir(negative_images_path)]\n",
        "\n",
        "image_count = len(anchor_images)\n",
        "\n",
        "anchor_dataset = tf.data.Dataset.from_tensor_slices(anchor_images)\n",
        "positive_dataset = tf.data.Dataset.from_tensor_slices(positive_images)\n",
        "negative_dataset = tf.data.Dataset.from_tensor_slices(negative_images)\n",
        "\n",
        "dataset = tf.data.Dataset.zip((anchor_dataset, positive_dataset, negative_dataset))\n",
        "dataset = dataset.shuffle(buffer_size=1024)\n",
        "dataset = dataset.map(preprocess_triplets)\n",
        "\n",
        "# Let's now split our dataset in train and validation.\n",
        "train_dataset = dataset.take(round(image_count * 0.8))\n",
        "val_dataset = dataset.skip(round(image_count * 0.8))\n",
        "\n",
        "train_dataset = train_dataset.batch(16, drop_remainder=False)\n",
        "train_dataset = train_dataset.prefetch(8)\n",
        "\n",
        "val_dataset = val_dataset.batch(16, drop_remainder=False)\n",
        "val_dataset = val_dataset.prefetch(8)"
      ],
      "id": "8ca75cd9",
      "execution_count": null,
      "outputs": []
    },
    {
      "cell_type": "code",
      "metadata": {
        "id": "73aabf1d",
        "colab": {
          "base_uri": "https://localhost:8080/"
        },
        "outputId": "ab28cd09-c85d-4d76-d486-1c7ddac75bc3"
      },
      "source": [
        "embedding = keras.models.load_model('drive/MyDrive/DL Assignment/keras-facenet/model/facenet_keras.h5')\n",
        "embedding.load_weights('drive/MyDrive/DL Assignment/weights_3.h5')\n",
        "#embedding.summary()"
      ],
      "id": "73aabf1d",
      "execution_count": null,
      "outputs": [
        {
          "output_type": "stream",
          "name": "stdout",
          "text": [
            "WARNING:tensorflow:No training configuration found in the save file, so the model was *not* compiled. Compile it manually.\n"
          ]
        }
      ]
    },
    {
      "cell_type": "code",
      "metadata": {
        "id": "8a1d60ae"
      },
      "source": [
        "class DistanceLayer(layers.Layer):\n",
        "    \"\"\"\n",
        "    This layer is responsible for computing the distance between the anchor\n",
        "    embedding and the positive embedding, and the anchor embedding and the\n",
        "    negative embedding.\n",
        "    \"\"\"\n",
        "\n",
        "    def __init__(self, **kwargs):\n",
        "        super().__init__(**kwargs)\n",
        "\n",
        "    def call(self, anchor, positive, negative):\n",
        "        ap_distance = tf.reduce_sum(tf.square(anchor - positive), -1)\n",
        "        an_distance = tf.reduce_sum(tf.square(anchor - negative), -1)\n",
        "        return (ap_distance, an_distance)\n",
        "\n",
        "\n",
        "anchor_input = layers.Input(name=\"anchor\", shape=target_shape + (3,))\n",
        "positive_input = layers.Input(name=\"positive\", shape=target_shape + (3,))\n",
        "negative_input = layers.Input(name=\"negative\", shape=target_shape + (3,))\n",
        "\n",
        "distances = DistanceLayer()(\n",
        "    embedding(anchor_input),\n",
        "    embedding(positive_input),\n",
        "    embedding(negative_input),\n",
        ")\n",
        "\n",
        "siamese_network = Model(\n",
        "    inputs=[anchor_input, positive_input, negative_input], outputs=distances\n",
        ")"
      ],
      "id": "8a1d60ae",
      "execution_count": null,
      "outputs": []
    },
    {
      "cell_type": "code",
      "metadata": {
        "id": "cdb3c624"
      },
      "source": [
        "class SiameseModel(Model):\n",
        "    \"\"\"The Siamese Network model with a custom training and testing loops.\n",
        "\n",
        "    Computes the triplet loss using the three embeddings produced by the\n",
        "    Siamese Network.\n",
        "\n",
        "    The triplet loss is defined as:\n",
        "       L(A, P, N) = max(‖f(A) - f(P)‖² - ‖f(A) - f(N)‖² + margin, 0)\n",
        "    \"\"\"\n",
        "\n",
        "    def __init__(self, siamese_network, margin=10000000):\n",
        "        super(SiameseModel, self).__init__()\n",
        "        self.siamese_network = siamese_network\n",
        "        self.margin = margin\n",
        "        self.loss_tracker = metrics.Mean(name=\"loss\")\n",
        "\n",
        "    def call(self, inputs):\n",
        "        return self.siamese_network(inputs)\n",
        "\n",
        "    def train_step(self, data):\n",
        "        # GradientTape is a context manager that records every operation that\n",
        "        # you do inside. We are using it here to compute the loss so we can get\n",
        "        # the gradients and apply them using the optimizer specified in\n",
        "        # `compile()`.\n",
        "        with tf.GradientTape() as tape:\n",
        "            loss = self._compute_loss(data)\n",
        "\n",
        "        # Storing the gradients of the loss function with respect to the\n",
        "        # weights/parameters.\n",
        "        gradients = tape.gradient(loss, self.siamese_network.trainable_weights)\n",
        "\n",
        "        # Applying the gradients on the model using the specified optimizer\n",
        "        self.optimizer.apply_gradients(\n",
        "            zip(gradients, self.siamese_network.trainable_weights)\n",
        "        )\n",
        "\n",
        "        # Let's update and return the training loss metric.\n",
        "        self.loss_tracker.update_state(loss)\n",
        "        return {\"loss\": self.loss_tracker.result()}\n",
        "\n",
        "    def test_step(self, data):\n",
        "        loss = self._compute_loss(data)\n",
        "\n",
        "        # Let's update and return the loss metric.\n",
        "        self.loss_tracker.update_state(loss)\n",
        "        return {\"loss\": self.loss_tracker.result()}\n",
        "\n",
        "    def _compute_loss(self, data):\n",
        "        # The output of the network is a tuple containing the distances\n",
        "        # between the anchor and the positive example, and the anchor and\n",
        "        # the negative example.\n",
        "        ap_distance, an_distance = self.siamese_network(data)\n",
        "\n",
        "        # Computing the Triplet Loss by subtracting both distances and\n",
        "        # making sure we don't get a negative value.\n",
        "        loss = ap_distance - an_distance\n",
        "        loss = tf.maximum(loss + self.margin, 0.0)\n",
        "        return loss\n",
        "\n",
        "    @property\n",
        "    def metrics(self):\n",
        "        # We need to list our metrics here so the `reset_states()` can be\n",
        "        # called automatically.\n",
        "        return [self.loss_tracker]"
      ],
      "id": "cdb3c624",
      "execution_count": null,
      "outputs": []
    },
    {
      "cell_type": "code",
      "metadata": {
        "id": "f3c12421"
      },
      "source": [
        "reduce_lr = ReduceLROnPlateau(monitor='val_loss', factor=0.2,\n",
        "                              patience=5, min_lr=0.00001)\n",
        "model_checkpoint_callback = ModelCheckpoint(filepath='drive/MyDrive/DL Assignment/facenetweights/model_.{epoch:02d}-{val_loss:.2f}.h5',\n",
        "                                            save_weights_only = True,\n",
        "                                            verbose = 1,\n",
        "                                            save_best_only=False)"
      ],
      "id": "f3c12421",
      "execution_count": null,
      "outputs": []
    },
    {
      "cell_type": "code",
      "metadata": {
        "scrolled": true,
        "id": "8cd8a73f",
        "colab": {
          "base_uri": "https://localhost:8080/"
        },
        "outputId": "f3863c58-de9c-4417-9ad1-df254036135a"
      },
      "source": [
        "siamese_model = SiameseModel(siamese_network)\n",
        "siamese_model.compile(optimizer=optimizers.Adam())\n",
        "siamese_model.fit(train_dataset, epochs=1, validation_data=val_dataset, callbacks = [model_checkpoint_callback])"
      ],
      "id": "8cd8a73f",
      "execution_count": null,
      "outputs": [
        {
          "output_type": "stream",
          "name": "stdout",
          "text": [
            "  2/259 [..............................] - ETA: 50:59 - loss: 226197.6875 "
          ]
        }
      ]
    },
    {
      "cell_type": "code",
      "metadata": {
        "id": "a54d935d"
      },
      "source": [
        "siamese_network.layers[3].save_weights('drive/MyDrive/DL Assignment/weights_4.h5')"
      ],
      "id": "a54d935d",
      "execution_count": null,
      "outputs": []
    }
  ]
}