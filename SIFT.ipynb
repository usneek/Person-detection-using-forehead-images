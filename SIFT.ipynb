{
  "nbformat": 4,
  "nbformat_minor": 0,
  "metadata": {
    "colab": {
      "name": "SIFT.ipynb",
      "provenance": [],
      "collapsed_sections": [],
      "mount_file_id": "1GHBPQPPQ4n1JztcHNE9dLTKHx7RQdNG5",
      "authorship_tag": "ABX9TyNOVyKbVCA+8NTYdZyWSEun",
      "include_colab_link": true
    },
    "kernelspec": {
      "name": "python3",
      "display_name": "Python 3"
    },
    "language_info": {
      "name": "python"
    }
  },
  "cells": [
    {
      "cell_type": "markdown",
      "metadata": {
        "id": "view-in-github",
        "colab_type": "text"
      },
      "source": [
        "<a href=\"https://colab.research.google.com/github/usneek/Person-detection-using-forehead-images/blob/main/SIFT.ipynb\" target=\"_parent\"><img src=\"https://colab.research.google.com/assets/colab-badge.svg\" alt=\"Open In Colab\"/></a>"
      ]
    },
    {
      "cell_type": "markdown",
      "metadata": {
        "id": "9khbqAYBv3Ql"
      },
      "source": [
        "**Feature Extraction of Foreheads using SIFT**"
      ]
    },
    {
      "cell_type": "markdown",
      "metadata": {
        "id": "k2y6mJJjwBCG"
      },
      "source": [
        "Changing required verions"
      ]
    },
    {
      "cell_type": "code",
      "metadata": {
        "colab": {
          "base_uri": "https://localhost:8080/"
        },
        "id": "AeG_tuO4D-SI",
        "outputId": "61442ab6-6f64-42cc-9f12-74fafe5c7530"
      },
      "source": [
        "!pip3 uninstall opencv-python\n",
        "!pip3 install -U opencv-contrib-python==3.4.2.17"
      ],
      "execution_count": null,
      "outputs": [
        {
          "output_type": "stream",
          "name": "stdout",
          "text": [
            "Found existing installation: opencv-python 4.1.2.30\n",
            "Uninstalling opencv-python-4.1.2.30:\n",
            "  Would remove:\n",
            "    /usr/local/lib/python3.7/dist-packages/cv2/*\n",
            "    /usr/local/lib/python3.7/dist-packages/opencv_python-4.1.2.30.dist-info/*\n",
            "Proceed (y/n)? y\n",
            "  Successfully uninstalled opencv-python-4.1.2.30\n",
            "y\n",
            "Collecting opencv-contrib-python==3.4.2.17\n",
            "  Downloading opencv_contrib_python-3.4.2.17-cp37-cp37m-manylinux1_x86_64.whl (30.6 MB)\n",
            "\u001b[K     |████████████████████████████████| 30.6 MB 27 kB/s \n",
            "\u001b[?25hRequirement already satisfied: numpy>=1.14.5 in /usr/local/lib/python3.7/dist-packages (from opencv-contrib-python==3.4.2.17) (1.19.5)\n",
            "Installing collected packages: opencv-contrib-python\n",
            "  Attempting uninstall: opencv-contrib-python\n",
            "    Found existing installation: opencv-contrib-python 4.1.2.30\n",
            "    Uninstalling opencv-contrib-python-4.1.2.30:\n",
            "      Successfully uninstalled opencv-contrib-python-4.1.2.30\n",
            "Successfully installed opencv-contrib-python-3.4.2.17\n"
          ]
        }
      ]
    },
    {
      "cell_type": "markdown",
      "metadata": {
        "id": "_Xcn-C0SwGEX"
      },
      "source": [
        "Importing required libraries"
      ]
    },
    {
      "cell_type": "code",
      "metadata": {
        "id": "zAiSwbpowKvw"
      },
      "source": [
        "import cv2\n",
        "import os\n",
        "import matplotlib.pyplot as plt\n",
        "import numpy as np"
      ],
      "execution_count": null,
      "outputs": []
    },
    {
      "cell_type": "markdown",
      "metadata": {
        "id": "AORvmSMHwcMX"
      },
      "source": [
        "Feature Extraction:-\n",
        "We have used SIFT libraray to create features in each of the image and used Flann Based matcher for matching"
      ]
    },
    {
      "cell_type": "code",
      "metadata": {
        "id": "EpXhGD5ZKZgU"
      },
      "source": [
        "sift = cv2.xfeatures2d.SIFT_create()\n",
        "index_params = dict(algorithm=0, trees=5)\n",
        "search_params = dict()\n",
        "flann = cv2.FlannBasedMatcher(index_params, search_params)"
      ],
      "execution_count": null,
      "outputs": []
    },
    {
      "cell_type": "markdown",
      "metadata": {
        "id": "TbkvRX_lw5VZ"
      },
      "source": [
        "Making two arrays:-\n",
        "\n",
        "1. Genuine- contains cosine similarities of same people's embeddings\n",
        "2. Imposter- contains cosine similarities of differnet people's embeddings"
      ]
    },
    {
      "cell_type": "code",
      "metadata": {
        "id": "nS2ioL-ZLIBG"
      },
      "source": [
        "genuine=[]\n",
        "imposter=[]\n",
        "path=os.listdir('drive/MyDrive/DL Assignment/Images/')\n",
        "for image in range(50):\n",
        "  y='drive/MyDrive/DL Assignment/Images/'+path[image]\n",
        "  listm=path[image].split('_')\n",
        "  img=cv2.imread(y)\n",
        "  img = cv2.cvtColor(img, cv2.COLOR_BGR2GRAY)\n",
        "  keypoints_main, descriptors_main = sift.detectAndCompute(img,None)\n",
        "  for image_secondary in range(50):\n",
        "    y_sec='drive/MyDrive/DL Assignment/Images/'+path[image_secondary]\n",
        "    img_sec=cv2.imread(y_sec)\n",
        "    listi=path[image_secondary].split('_')\n",
        "    if(listi[2]==listm[2]):\n",
        "      continue\n",
        "    img_sec = cv2.cvtColor(img_sec, cv2.COLOR_BGR2GRAY)\n",
        "    keypoints_sec, descriptors_sec = sift.detectAndCompute(img_sec,None)\n",
        "    matches = flann.knnMatch(np.asarray(descriptors_main,np.float32),np.asarray(descriptors_sec,np.float32), k=2)\n",
        "    number_keypoints = 0\n",
        "    if len(keypoints_main) <= len(keypoints_sec):\n",
        "        number_keypoints = len(keypoints_main)\n",
        "    else:\n",
        "        number_keypoints = len(keypoints_sec)\n",
        "    good = []\n",
        "    for m,n in matches:\n",
        "        if m.distance < 0.8*n.distance:\n",
        "          good.append([m])\n",
        "    score = len(good) / number_keypoints\n",
        "    if(listi[0]==listm[0]):\n",
        "      genuine.append(score)\n",
        "    else :\n",
        "      imposter.append(score)"
      ],
      "execution_count": null,
      "outputs": []
    },
    {
      "cell_type": "markdown",
      "metadata": {
        "id": "V-8nyEkU8qGJ"
      },
      "source": [
        "Plotting 'Genuine' and 'Imposter' histograms Histograms have been normalised i.e instead of actual numbers, percentage has been considered."
      ]
    },
    {
      "cell_type": "code",
      "metadata": {
        "colab": {
          "base_uri": "https://localhost:8080/",
          "height": 295
        },
        "id": "ZaPsEaSgYTUP",
        "outputId": "7be05326-74f1-4cc3-ce7b-4138f273dfdc"
      },
      "source": [
        "import matplotlib.pyplot as plt\n",
        "a = np.array(genuine)\n",
        "plt.hist(a, bins =int(100/5),density=True,color='Green')\n",
        "plt.ylabel(\"% of Genuine scores\")\n",
        "plt.xlabel(\"Cosine similarity of scores\")\n",
        "plt.title('Genuine histogram')\n",
        "plt.show()"
      ],
      "execution_count": null,
      "outputs": [
        {
          "output_type": "display_data",
          "data": {
            "image/png": "[encoded data removed]",
            "text/plain": [
              "<Figure size 432x288 with 1 Axes>"
            ]
          },
          "metadata": {
            "needs_background": "light"
          }
        }
      ]
    },
    {
      "cell_type": "code",
      "metadata": {
        "colab": {
          "base_uri": "https://localhost:8080/",
          "height": 295
        },
        "id": "U1MrztbjZN7i",
        "outputId": "72342f81-48ba-4b79-cad5-73243fde3f28"
      },
      "source": [
        "import matplotlib.pyplot as plt\n",
        "a = np.array(imposter)\n",
        "plt.hist(a, bins =int(100/5),density=True,color='Red')\n",
        "plt.ylabel(\"% of Imposter scores\")\n",
        "plt.xlabel(\"Cosine similarity of scores\")\n",
        "plt.title('Imposter histogram')\n",
        "plt.show()"
      ],
      "execution_count": null,
      "outputs": [
        {
          "output_type": "display_data",
          "data": {
            "image/png": "[encoded data removed]",
            "text/plain": [
              "<Figure size 432x288 with 1 Axes>"
            ]
          },
          "metadata": {
            "needs_background": "light"
          }
        }
      ]
    },
    {
      "cell_type": "markdown",
      "metadata": {
        "id": "WG2FB8LR86TZ"
      },
      "source": [
        "Plotting ROC curve between false accetance and false rejection rate by varying threshold"
      ]
    },
    {
      "cell_type": "code",
      "metadata": {
        "id": "JJlussPlQRvc"
      },
      "source": [
        "def FAR(threshold):\n",
        "  count=0;\n",
        "  for i in range(len(imposter)):\n",
        "    if(imposter[i]>threshold):\n",
        "      count+=1;\n",
        "  count=count/len(imposter)*100\n",
        "  return count/(200)\n",
        "\n",
        "def FRR(threshold):\n",
        "  count=0;\n",
        "  for i in range(len(genuine)):\n",
        "    if(genuine[i]<threshold):\n",
        "      count+=1;\n",
        "  count=count/len(genuine)*100\n",
        "  return count/(200)"
      ],
      "execution_count": null,
      "outputs": []
    },
    {
      "cell_type": "code",
      "metadata": {
        "id": "sAbuoe7tQbzs"
      },
      "source": [
        "far=[]\n",
        "frr=[]\n",
        "threshold=[]\n",
        "for i in range(100):\n",
        "  threshold.append(i/100)\n",
        "  far.append(FAR(i/100));\n",
        "  frr.append(FRR(i/100));"
      ],
      "execution_count": null,
      "outputs": []
    },
    {
      "cell_type": "code",
      "metadata": {
        "colab": {
          "base_uri": "https://localhost:8080/",
          "height": 329
        },
        "id": "r-6uNEDNQg1S",
        "outputId": "06074b1f-8b9f-47d7-eede-2e96036b8b4b"
      },
      "source": [
        "import numpy as np\n",
        "import matplotlib.pyplot as plt\n",
        "from shapely.geometry import LineString\n",
        "a=[0,0.5]\n",
        "b=[0,0.5]\n",
        "plt.xlabel('False Acceptance Rate')\n",
        "plt.ylabel('False Rejection Rate')\n",
        "plt.title('ROC Curve')\n",
        "plt.plot(a, b)     #plotting y=x for FAR=FRR\n",
        "plt.plot(far, frr)\n",
        "first_line = LineString(np.column_stack((far, frr)))\n",
        "second_line = LineString(np.column_stack((a, b)))\n",
        "intersection = first_line.intersection(second_line)\n",
        "\n",
        "if intersection.geom_type == 'MultiPoint':\n",
        "    plt.plot(*LineString(intersection).xy, 'o')\n",
        "elif intersection.geom_type == 'Point':\n",
        "    plt.plot(*intersection.xy, 'o')\n",
        "x, y = intersection.xy\n",
        "\n",
        "############################################### finding the corresponding threshold\n",
        "\n",
        "c=[0,0.5,1]\n",
        "d=[x,x,x]\n",
        "first_line = LineString(np.column_stack((threshold, far)))\n",
        "second_line = LineString(np.column_stack((c, d)))\n",
        "intersection = first_line.intersection(second_line)\n",
        "\n",
        "if intersection.geom_type == 'MultiPoint':\n",
        "    plt.plot(*LineString(intersection).xy, 'o')\n",
        "elif intersection.geom_type == 'Point':\n",
        "    plt.plot(*intersection.xy, 'o')\n",
        "plt.show()\n",
        "u, v = intersection.xy\n",
        "print(\"The equal acceptance rate is \",x[0]*100,\"%\")\n",
        "print(\"The corresponding threshold is\",u[0])"
      ],
      "execution_count": null,
      "outputs": [
        {
          "output_type": "display_data",
          "data": {
            "image/png": "[encoded data removed]",
            "text/plain": [
              "<Figure size 432x288 with 1 Axes>"
            ]
          },
          "metadata": {
            "needs_background": "light"
          }
        },
        {
          "output_type": "stream",
          "name": "stdout",
          "text": [
            "The equal acceptance rate is  24.133963178294575 %\n",
            "The corresponding threshold is 0.10616279069767443\n"
          ]
        }
      ]
    },
    {
      "cell_type": "code",
      "metadata": {
        "id": "VgeXT_p39STF",
        "colab": {
          "base_uri": "https://localhost:8080/"
        },
        "outputId": "f9bc330f-8700-43a9-deb2-58f52b223b6a"
      },
      "source": [
        "def CRR(threshold):\n",
        "  count=0\n",
        "  count2=0\n",
        "  for i in range(len(genuine)):\n",
        "    if(genuine[i]>threshold):\n",
        "      count+=1\n",
        "  count=count/len(genuine)*100\n",
        "  for i in range(len(imposter)):\n",
        "    if(imposter[i]<threshold):\n",
        "      count2+=1;\n",
        "  count2=count2/len(imposter)*100\n",
        "  return (count+count2)/200\n",
        "\n",
        "def accuracy(EER):\n",
        "  return 100-EER      #FAR=FRR=EER hence accuracy changes to this formula\n",
        "\n",
        "print(\"The correct recognition rate is \",CRR(u[0])*100,\"%\")\n",
        "print(\"The accuracy is \",accuracy(x[0]*100),\"%\")"
      ],
      "execution_count": null,
      "outputs": [
        {
          "output_type": "stream",
          "name": "stdout",
          "text": [
            "The correct recognition rate is  51.63194444444444 %\n",
            "The accuracy is  75.86603682170542 %\n"
          ]
        }
      ]
    }
  ]
}